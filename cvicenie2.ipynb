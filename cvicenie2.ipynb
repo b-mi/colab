{
  "nbformat": 4,
  "nbformat_minor": 5,
  "metadata": {
    "kernelspec": {
      "display_name": "Python 3",
      "language": "python",
      "name": "python3"
    },
    "language_info": {
      "codemirror_mode": {
        "name": "ipython",
        "version": 3
      },
      "file_extension": ".py",
      "mimetype": "text/x-python",
      "name": "python",
      "nbconvert_exporter": "python",
      "pygments_lexer": "ipython3",
      "version": "3.8.8"
    },
    "colab": {
      "name": "cvicenie2.ipynb",
      "provenance": [],
      "include_colab_link": true
    }
  },
  "cells": [
    {
      "cell_type": "markdown",
      "metadata": {
        "id": "view-in-github",
        "colab_type": "text"
      },
      "source": [
        "<a href=\"https://colab.research.google.com/github/b-mi/colab/blob/main/cvicenie2.ipynb\" target=\"_parent\"><img src=\"https://colab.research.google.com/assets/colab-badge.svg\" alt=\"Open In Colab\"/></a>"
      ]
    },
    {
      "cell_type": "code",
      "metadata": {
        "id": "e1846b5e"
      },
      "source": [
        "import numpy as np\n",
        "import pandas as pd\n",
        "import matplotlib.pyplot as plt \n",
        "from sklearn.model_selection import train_test_split, cross_val_score, GridSearchCV\n",
        "from sklearn.svm import SVC\n",
        "from tools import *"
      ],
      "id": "e1846b5e",
      "execution_count": null,
      "outputs": []
    },
    {
      "cell_type": "code",
      "metadata": {
        "id": "130cf4d1",
        "outputId": "3f12d1df-f465-457b-db6c-a4fd0bf94dee"
      },
      "source": [
        "data = pd.read_csv('./datasets/iris.csv')\n",
        "print(data.head())"
      ],
      "id": "130cf4d1",
      "execution_count": null,
      "outputs": [
        {
          "output_type": "stream",
          "text": [
            "   Id  SepalLengthCm  SepalWidthCm  PetalLengthCm  PetalWidthCm      Species\n",
            "0   1            5.1           3.5            1.4           0.2  Iris-setosa\n",
            "1   2            4.9           3.0            1.4           0.2  Iris-setosa\n",
            "2   3            4.7           3.2            1.3           0.2  Iris-setosa\n",
            "3   4            4.6           3.1            1.5           0.2  Iris-setosa\n",
            "4   5            5.0           3.6            1.4           0.2  Iris-setosa\n"
          ],
          "name": "stdout"
        }
      ]
    },
    {
      "cell_type": "code",
      "metadata": {
        "id": "82fd96a1"
      },
      "source": [
        "# spocitam stvorce, a tiez aby som mal v datach dva udaje pre suradnice grafu\n",
        "data['sepal_square'] = data.SepalLengthCm * data.SepalWidthCm\n",
        "data['petal_square'] = data.PetalLengthCm * data.PetalWidthCm\n"
      ],
      "id": "82fd96a1",
      "execution_count": null,
      "outputs": []
    },
    {
      "cell_type": "code",
      "metadata": {
        "id": "41c28fa4"
      },
      "source": [
        "#dropnem zbytocnosti, nech SVM nezblbne\n",
        "data.drop('Id', axis='columns', inplace=True)\n",
        "data.drop('SepalLengthCm', axis='columns', inplace=True)\n",
        "data.drop('SepalWidthCm', axis='columns', inplace=True)\n",
        "data.drop('PetalLengthCm', axis='columns', inplace=True)\n",
        "data.drop('PetalWidthCm', axis='columns', inplace=True)\n"
      ],
      "id": "41c28fa4",
      "execution_count": null,
      "outputs": []
    },
    {
      "cell_type": "code",
      "metadata": {
        "id": "f2d476a5"
      },
      "source": [
        "#normalizovat inputy\n",
        "normalize_columns(data, ['sepal_square',  'petal_square'])"
      ],
      "id": "f2d476a5",
      "execution_count": null,
      "outputs": []
    },
    {
      "cell_type": "code",
      "metadata": {
        "id": "25ca9fef"
      },
      "source": [
        "# rozdelit data na normalizovane inputy a targety\n",
        "y, X = np.split(data, [1], axis=1)\n",
        "#print(X)\n",
        "#print(y)"
      ],
      "id": "25ca9fef",
      "execution_count": null,
      "outputs": []
    },
    {
      "cell_type": "code",
      "metadata": {
        "id": "98d46b0c"
      },
      "source": [
        "# rozdelit data na train a test\n",
        "X_train, X_test, y_train, y_test = train_test_split(X, y, test_size=0.33)\n",
        "#print('X_train\\n', X_train)\n",
        "#print('y_train\\n', y_train)\n",
        "#print('X_test\\n', X_test)\n",
        "#print('t_test\\n', y_test)\n",
        "#print(data)"
      ],
      "id": "98d46b0c",
      "execution_count": null,
      "outputs": []
    },
    {
      "cell_type": "code",
      "metadata": {
        "id": "13d771f4",
        "outputId": "e775954c-ae05-405e-aa7c-a80a64deb57e"
      },
      "source": [
        "# prve malovanie\n",
        "def plot_svm(dataset, clf=None, text=None):\n",
        "    fig = plt.figure(figsize=(10, 7))\n",
        "    names = [\n",
        "        ('Iris-setosa', 'r', '+'), \n",
        "        ('Iris-versicolor', 'g', '_'), \n",
        "        ('Iris-virginica', 'b', 'v')]\n",
        "    \n",
        "    for item in names:\n",
        "        name, colr, mark = item\n",
        "        ds = dataset.loc[data['Species'] == name]\n",
        "        pos_x = ds.to_numpy()[:, 1]\n",
        "        pos_y = ds.to_numpy()[:, 2]\n",
        "        plt.scatter(pos_x, pos_y, color=colr, marker=mark, label=name)\n",
        "\n",
        "    #zial tu vyhadzuje chybu, ktoru na zaklade chyboveho oznamu neviem vyriesit\n",
        "    if clf:\n",
        "        xx = np.linspace(0, 1, 30)\n",
        "        yy = np.linspace(0, 1, 30)\n",
        "        YY, XX = np.meshgrid(yy, xx)\n",
        "        xy = np.vstack([XX.ravel(), YY.ravel()]).T\n",
        "        Z = clf.decision_function(xy).reshape(XX.shape)\n",
        "\n",
        "        # decision boundary\n",
        "        plt.contour(XX, YY, Z, colors='k', levels=[-1, 0, 1],\n",
        "        linestyles=[\"--\", \"-\", \"--\"])\n",
        "        \n",
        "        # support vectors\n",
        "        if hasattr(clf, \"support_vectors_\"):\n",
        "            plt.scatter(clf.support_vectors_[:, 0], clf.support_vectors_[:, 1],\n",
        "                       s=100, linewidth=1, facecolors=\"none\", edgecolors=\"k\")\n",
        "        \n",
        "        \n",
        "        \n",
        "    plt.ylim(top=1.1)\n",
        "    plt.xlim(right=1.1)\n",
        "    \n",
        "    plt.xlabel('Sepal stvorec')\n",
        "    plt.ylabel('Petal stvorec')\n",
        "    plt.legend()\n",
        "    \n",
        "    if text:\n",
        "        plt.text(0.02,0.12, text, ha=\"left\", va=\"center\")\n",
        "    \n",
        "    plt.show()\n",
        "    return fig\n",
        "\n",
        "fig1 = plot_svm(data)"
      ],
      "id": "13d771f4",
      "execution_count": null,
      "outputs": [
        {
          "output_type": "display_data",
          "data": {
            "image/png": "[encoded data removed]",
            "text/plain": [
              "<Figure size 720x504 with 1 Axes>"
            ]
          },
          "metadata": {
            "tags": [],
            "needs_background": "light"
          }
        }
      ]
    },
    {
      "cell_type": "code",
      "metadata": {
        "id": "e13627cb",
        "outputId": "1a52e0cd-d0eb-474d-ded5-42866245f1de"
      },
      "source": [
        "# hunting for idealne parametre\n",
        "svc = SVC()\n",
        "params = [\n",
        "    #{'kernel': ['poly'], 'C': [1, 3, 5, 10, 25, 100], 'degree': [1, 2, 3], 'gamma': [.1, .5, 2, 10]},\n",
        "    {'kernel': ['rbf'],  'C': [1, 3, 5, 8, 10, 12, 14, 16, 18, 20, 22,  25],                      'gamma': [.1, .3, .5, 1, 2, 3, 4, 5]},\n",
        "    #{'kernel': ['sigmoid'], 'C': [1, 25, 100], 'gamma': [.1, .7, 1, 5, 10], 'coef0': [.1, .7, 2, 5, 10]}    \n",
        "]\n",
        "# kernel poly a sigmoid nedava lepsie riesenie ako rbf, preto som ich zapoznamkoval\n",
        "\n",
        "clf = GridSearchCV(estimator=svc, param_grid=params, cv = 4)\n",
        "clf.fit(X_train, y_train.to_numpy().ravel())\n",
        "scores = clf.score(X_test, y_test.to_numpy().ravel())\n",
        "best = clf.best_params_\n",
        "\n",
        "# prepocet z dovodu aby to vykreslilo support body\n",
        "clf2 = SVC(kernel=best['kernel'], C=best['C'], gamma=best['gamma'])\n",
        "clf2.fit(X_test, y_test.to_numpy().ravel())\n",
        "fig1 = plot_svm(data, clf2, 'Model ma presnost: {:0.2%} (+/- {:0.2%} odchylka), best: {}'.format(scores.mean(), scores.std(), clf.best_params_))\n"
      ],
      "id": "e13627cb",
      "execution_count": null,
      "outputs": [
        {
          "output_type": "error",
          "ename": "ValueError",
          "evalue": "cannot reshape array of size 2700 into shape (30,30)",
          "traceback": [
            "\u001b[1;31m---------------------------------------------------------------------------\u001b[0m",
            "\u001b[1;31mValueError\u001b[0m                                Traceback (most recent call last)",
            "\u001b[1;32m<ipython-input-18-22f1793b6f09>\u001b[0m in \u001b[0;36m<module>\u001b[1;34m\u001b[0m\n\u001b[0;32m     16\u001b[0m \u001b[0mclf2\u001b[0m \u001b[1;33m=\u001b[0m \u001b[0mSVC\u001b[0m\u001b[1;33m(\u001b[0m\u001b[0mkernel\u001b[0m\u001b[1;33m=\u001b[0m\u001b[0mbest\u001b[0m\u001b[1;33m[\u001b[0m\u001b[1;34m'kernel'\u001b[0m\u001b[1;33m]\u001b[0m\u001b[1;33m,\u001b[0m \u001b[0mC\u001b[0m\u001b[1;33m=\u001b[0m\u001b[0mbest\u001b[0m\u001b[1;33m[\u001b[0m\u001b[1;34m'C'\u001b[0m\u001b[1;33m]\u001b[0m\u001b[1;33m,\u001b[0m \u001b[0mgamma\u001b[0m\u001b[1;33m=\u001b[0m\u001b[0mbest\u001b[0m\u001b[1;33m[\u001b[0m\u001b[1;34m'gamma'\u001b[0m\u001b[1;33m]\u001b[0m\u001b[1;33m)\u001b[0m\u001b[1;33m\u001b[0m\u001b[1;33m\u001b[0m\u001b[0m\n\u001b[0;32m     17\u001b[0m \u001b[0mclf2\u001b[0m\u001b[1;33m.\u001b[0m\u001b[0mfit\u001b[0m\u001b[1;33m(\u001b[0m\u001b[0mX_test\u001b[0m\u001b[1;33m,\u001b[0m \u001b[0my_test\u001b[0m\u001b[1;33m.\u001b[0m\u001b[0mto_numpy\u001b[0m\u001b[1;33m(\u001b[0m\u001b[1;33m)\u001b[0m\u001b[1;33m.\u001b[0m\u001b[0mravel\u001b[0m\u001b[1;33m(\u001b[0m\u001b[1;33m)\u001b[0m\u001b[1;33m)\u001b[0m\u001b[1;33m\u001b[0m\u001b[1;33m\u001b[0m\u001b[0m\n\u001b[1;32m---> 18\u001b[1;33m \u001b[0mfig1\u001b[0m \u001b[1;33m=\u001b[0m \u001b[0mplot_svm\u001b[0m\u001b[1;33m(\u001b[0m\u001b[0mdata\u001b[0m\u001b[1;33m,\u001b[0m \u001b[0mclf2\u001b[0m\u001b[1;33m,\u001b[0m \u001b[1;34m'Model ma presnost: {:0.2%} (+/- {:0.2%} odchylka), best: {}'\u001b[0m\u001b[1;33m.\u001b[0m\u001b[0mformat\u001b[0m\u001b[1;33m(\u001b[0m\u001b[0mscores\u001b[0m\u001b[1;33m.\u001b[0m\u001b[0mmean\u001b[0m\u001b[1;33m(\u001b[0m\u001b[1;33m)\u001b[0m\u001b[1;33m,\u001b[0m \u001b[0mscores\u001b[0m\u001b[1;33m.\u001b[0m\u001b[0mstd\u001b[0m\u001b[1;33m(\u001b[0m\u001b[1;33m)\u001b[0m\u001b[1;33m,\u001b[0m \u001b[0mclf\u001b[0m\u001b[1;33m.\u001b[0m\u001b[0mbest_params_\u001b[0m\u001b[1;33m)\u001b[0m\u001b[1;33m)\u001b[0m\u001b[1;33m\u001b[0m\u001b[1;33m\u001b[0m\u001b[0m\n\u001b[0m",
            "\u001b[1;32m<ipython-input-17-79a5a4990bb2>\u001b[0m in \u001b[0;36mplot_svm\u001b[1;34m(dataset, clf, text)\u001b[0m\n\u001b[0;32m     20\u001b[0m         \u001b[0mYY\u001b[0m\u001b[1;33m,\u001b[0m \u001b[0mXX\u001b[0m \u001b[1;33m=\u001b[0m \u001b[0mnp\u001b[0m\u001b[1;33m.\u001b[0m\u001b[0mmeshgrid\u001b[0m\u001b[1;33m(\u001b[0m\u001b[0myy\u001b[0m\u001b[1;33m,\u001b[0m \u001b[0mxx\u001b[0m\u001b[1;33m)\u001b[0m\u001b[1;33m\u001b[0m\u001b[1;33m\u001b[0m\u001b[0m\n\u001b[0;32m     21\u001b[0m         \u001b[0mxy\u001b[0m \u001b[1;33m=\u001b[0m \u001b[0mnp\u001b[0m\u001b[1;33m.\u001b[0m\u001b[0mvstack\u001b[0m\u001b[1;33m(\u001b[0m\u001b[1;33m[\u001b[0m\u001b[0mXX\u001b[0m\u001b[1;33m.\u001b[0m\u001b[0mravel\u001b[0m\u001b[1;33m(\u001b[0m\u001b[1;33m)\u001b[0m\u001b[1;33m,\u001b[0m \u001b[0mYY\u001b[0m\u001b[1;33m.\u001b[0m\u001b[0mravel\u001b[0m\u001b[1;33m(\u001b[0m\u001b[1;33m)\u001b[0m\u001b[1;33m]\u001b[0m\u001b[1;33m)\u001b[0m\u001b[1;33m.\u001b[0m\u001b[0mT\u001b[0m\u001b[1;33m\u001b[0m\u001b[1;33m\u001b[0m\u001b[0m\n\u001b[1;32m---> 22\u001b[1;33m         \u001b[0mZ\u001b[0m \u001b[1;33m=\u001b[0m \u001b[0mclf\u001b[0m\u001b[1;33m.\u001b[0m\u001b[0mdecision_function\u001b[0m\u001b[1;33m(\u001b[0m\u001b[0mxy\u001b[0m\u001b[1;33m)\u001b[0m\u001b[1;33m.\u001b[0m\u001b[0mreshape\u001b[0m\u001b[1;33m(\u001b[0m\u001b[0mXX\u001b[0m\u001b[1;33m.\u001b[0m\u001b[0mshape\u001b[0m\u001b[1;33m)\u001b[0m\u001b[1;33m\u001b[0m\u001b[1;33m\u001b[0m\u001b[0m\n\u001b[0m\u001b[0;32m     23\u001b[0m \u001b[1;33m\u001b[0m\u001b[0m\n\u001b[0;32m     24\u001b[0m         \u001b[1;31m# decision boundary\u001b[0m\u001b[1;33m\u001b[0m\u001b[1;33m\u001b[0m\u001b[1;33m\u001b[0m\u001b[0m\n",
            "\u001b[1;31mValueError\u001b[0m: cannot reshape array of size 2700 into shape (30,30)"
          ]
        },
        {
          "output_type": "display_data",
          "data": {
            "image/png": "[encoded data removed]",
            "text/plain": [
              "<Figure size 720x504 with 1 Axes>"
            ]
          },
          "metadata": {
            "tags": [],
            "needs_background": "light"
          }
        }
      ]
    },
    {
      "cell_type": "code",
      "metadata": {
        "id": "f29f9838"
      },
      "source": [
        "#zaverecne poznamky\n",
        "# - zvoleny kernel - lepsie ako GridSearchCV ho nevyberiem, ale vzhladom k tomu ze data su jasne, tak dobry vysledok dava kazdy kernel\n",
        "# - presnost to ukazuje 94% (obcas aj 98%), ukazovalo mi to povodne aj odchylku, neskor uz vzdy nulu, neviem preco\n",
        "# - nedava to snad uplne hausnumera\n",
        "\n",
        "# poprosil by som pomoct s problemom plot_svm, kde je zapoznamovana cast kodu ktora mala kreslit tie hranice, je tam ale chyba ktoru nviem vyriesit. Vdaka."
      ],
      "id": "f29f9838",
      "execution_count": null,
      "outputs": []
    }
  ]
}