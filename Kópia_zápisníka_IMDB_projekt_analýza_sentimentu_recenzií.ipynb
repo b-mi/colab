{
  "nbformat": 4,
  "nbformat_minor": 0,
  "metadata": {
    "colab": {
      "name": "Kópia zápisníka IMDB projekt - analýza sentimentu recenzií.ipynb",
      "provenance": [],
      "collapsed_sections": [
        "nuvu0bRO6sQb",
        "_qPZJv3jDav-",
        "Dv-XhyGgmHOg",
        "kRPLnsomYo6v",
        "NUw3uMKi2-Ek",
        "uYpYhPoE8jBS",
        "Z9r3bQmUM6jR",
        "dGq-VGHbSr7U"
      ],
      "toc_visible": true,
      "include_colab_link": true
    },
    "kernelspec": {
      "name": "python3",
      "display_name": "Python 3"
    }
  },
  "cells": [
    {
      "cell_type": "markdown",
      "metadata": {
        "id": "view-in-github",
        "colab_type": "text"
      },
      "source": [
        "<a href=\"https://colab.research.google.com/github/b-mi/colab/blob/main/K%C3%B3pia_z%C3%A1pisn%C3%ADka_IMDB_projekt_anal%C3%BDza_sentimentu_recenzi%C3%AD.ipynb\" target=\"_parent\"><img src=\"https://colab.research.google.com/assets/colab-badge.svg\" alt=\"Open In Colab\"/></a>"
      ]
    },
    {
      "cell_type": "markdown",
      "metadata": {
        "id": "nuvu0bRO6sQb"
      },
      "source": [
        "# Importy"
      ]
    },
    {
      "cell_type": "code",
      "metadata": {
        "id": "Ucq2b4Vq6xEq"
      },
      "source": [
        "from keras.datasets import imdb\n",
        "import numpy as np\n",
        "from keras import models\n",
        "from keras import layers\n",
        "import matplotlib.pyplot as plt"
      ],
      "execution_count": null,
      "outputs": []
    },
    {
      "cell_type": "markdown",
      "metadata": {
        "id": "_qPZJv3jDav-"
      },
      "source": [
        "# Načítanie IMDB datasetu"
      ]
    },
    {
      "cell_type": "code",
      "metadata": {
        "colab": {
          "base_uri": "https://localhost:8080/"
        },
        "id": "VMdGpOWtDtYa",
        "outputId": "9019eece-f17d-423e-e65d-1d16b7695ca3"
      },
      "source": [
        "(training_data, training_labels), (testing_data, testing_labels) = imdb.load_data(num_words=10000)\n",
        "print(\"IMDB download úspešne hotový\")"
      ],
      "execution_count": null,
      "outputs": [
        {
          "output_type": "stream",
          "text": [
            "Downloading data from https://storage.googleapis.com/tensorflow/tf-keras-datasets/imdb.npz\n",
            "17465344/17464789 [==============================] - 0s 0us/step\n"
          ],
          "name": "stdout"
        },
        {
          "output_type": "stream",
          "text": [
            "<string>:6: VisibleDeprecationWarning: Creating an ndarray from ragged nested sequences (which is a list-or-tuple of lists-or-tuples-or ndarrays with different lengths or shapes) is deprecated. If you meant to do this, you must specify 'dtype=object' when creating the ndarray\n",
            "/usr/local/lib/python3.7/dist-packages/tensorflow/python/keras/datasets/imdb.py:159: VisibleDeprecationWarning: Creating an ndarray from ragged nested sequences (which is a list-or-tuple of lists-or-tuples-or ndarrays with different lengths or shapes) is deprecated. If you meant to do this, you must specify 'dtype=object' when creating the ndarray\n",
            "  x_train, y_train = np.array(xs[:idx]), np.array(labels[:idx])\n"
          ],
          "name": "stderr"
        },
        {
          "output_type": "stream",
          "text": [
            "IMDB download úspešne hotový\n"
          ],
          "name": "stdout"
        },
        {
          "output_type": "stream",
          "text": [
            "/usr/local/lib/python3.7/dist-packages/tensorflow/python/keras/datasets/imdb.py:160: VisibleDeprecationWarning: Creating an ndarray from ragged nested sequences (which is a list-or-tuple of lists-or-tuples-or ndarrays with different lengths or shapes) is deprecated. If you meant to do this, you must specify 'dtype=object' when creating the ndarray\n",
            "  x_test, y_test = np.array(xs[idx:]), np.array(labels[idx:])\n"
          ],
          "name": "stderr"
        }
      ]
    },
    {
      "cell_type": "code",
      "metadata": {
        "colab": {
          "base_uri": "https://localhost:8080/"
        },
        "id": "wzlrxHKLDt-W",
        "outputId": "03cc92c9-f9c8-4cd1-a4c9-c7605d8e94b5"
      },
      "source": [
        "# spojíme všetky dáta dohromady\n",
        "data = np.concatenate((training_data, testing_data), axis=0)\n",
        "labels = np.concatenate((training_labels, testing_labels), axis=0)\n",
        "\n",
        "# zobrazíme si prvú recenziu\n",
        "print(data[0])"
      ],
      "execution_count": null,
      "outputs": [
        {
          "output_type": "stream",
          "text": [
            "[1, 14, 22, 16, 43, 530, 973, 1622, 1385, 65, 458, 4468, 66, 3941, 4, 173, 36, 256, 5, 25, 100, 43, 838, 112, 50, 670, 2, 9, 35, 480, 284, 5, 150, 4, 172, 112, 167, 2, 336, 385, 39, 4, 172, 4536, 1111, 17, 546, 38, 13, 447, 4, 192, 50, 16, 6, 147, 2025, 19, 14, 22, 4, 1920, 4613, 469, 4, 22, 71, 87, 12, 16, 43, 530, 38, 76, 15, 13, 1247, 4, 22, 17, 515, 17, 12, 16, 626, 18, 2, 5, 62, 386, 12, 8, 316, 8, 106, 5, 4, 2223, 5244, 16, 480, 66, 3785, 33, 4, 130, 12, 16, 38, 619, 5, 25, 124, 51, 36, 135, 48, 25, 1415, 33, 6, 22, 12, 215, 28, 77, 52, 5, 14, 407, 16, 82, 2, 8, 4, 107, 117, 5952, 15, 256, 4, 2, 7, 3766, 5, 723, 36, 71, 43, 530, 476, 26, 400, 317, 46, 7, 4, 2, 1029, 13, 104, 88, 4, 381, 15, 297, 98, 32, 2071, 56, 26, 141, 6, 194, 7486, 18, 4, 226, 22, 21, 134, 476, 26, 480, 5, 144, 30, 5535, 18, 51, 36, 28, 224, 92, 25, 104, 4, 226, 65, 16, 38, 1334, 88, 12, 16, 283, 5, 16, 4472, 113, 103, 32, 15, 16, 5345, 19, 178, 32]\n"
          ],
          "name": "stdout"
        }
      ]
    },
    {
      "cell_type": "code",
      "metadata": {
        "colab": {
          "base_uri": "https://localhost:8080/"
        },
        "id": "ksokwlWmDuNz",
        "outputId": "16f25210-70b3-440b-8394-113f3edac811"
      },
      "source": [
        "# link na kompletnú mapovaciu tabuľku indexov: https://storage.googleapis.com/tensorflow/tf-keras-datasets/imdb_word_index.json\n",
        "\n",
        "# dekódujeme prvú recenziu\n",
        "word_index = imdb.get_word_index()\n",
        "\n",
        "reverse_word_index = dict(\n",
        "[(value, key) for (key, value) in word_index.items()])\n",
        "\n",
        "decoded_review = ' '.join(\n",
        "[reverse_word_index.get(i - 3, '?') for i in data[0]])\n",
        "\n",
        "print(decoded_review)\n",
        "\n",
        "# zobrazíme si label prvej recenzie\n",
        "print(labels[0])"
      ],
      "execution_count": null,
      "outputs": [
        {
          "output_type": "stream",
          "text": [
            "Downloading data from https://storage.googleapis.com/tensorflow/tf-keras-datasets/imdb_word_index.json\n",
            "1646592/1641221 [==============================] - 0s 0us/step\n",
            "? this film was just brilliant casting location scenery story direction everyone's really suited the part they played and you could just imagine being there robert ? is an amazing actor and now the same being director ? father came from the same scottish island as myself so i loved the fact there was a real connection with this film the witty remarks throughout the film were great it was just brilliant so much that i bought the film as soon as it was released for ? and would recommend it to everyone to watch and the fly fishing was amazing really cried at the end it was so sad and you know what they say if you cry at a film it must have been good and this definitely was also ? to the two little boy's that played the ? of norman and paul they were just brilliant children are often left out of the ? list i think because the stars that play them all grown up are such a big profile for the whole film but these children are amazing and should be praised for what they have done don't you think the whole story was so lovely because it was true and was someone's life after all that was shared with us all\n",
            "1\n"
          ],
          "name": "stdout"
        }
      ]
    },
    {
      "cell_type": "code",
      "metadata": {
        "colab": {
          "base_uri": "https://localhost:8080/"
        },
        "id": "beV5GJmeERRz",
        "outputId": "e58dfcee-49b7-414a-870c-b98069a79215"
      },
      "source": [
        "# kontroly maximálneho indexu a počtu kategórií datasetu\n",
        "print(max([max(sequence) for sequence in data]))\n",
        "print(\"Kategórie:\", np.unique(labels))"
      ],
      "execution_count": null,
      "outputs": [
        {
          "output_type": "stream",
          "text": [
            "9999\n",
            "Kategórie: [0 1]\n"
          ],
          "name": "stdout"
        }
      ]
    },
    {
      "cell_type": "markdown",
      "metadata": {
        "id": "Dv-XhyGgmHOg"
      },
      "source": [
        "# Data preprocessing"
      ]
    },
    {
      "cell_type": "code",
      "metadata": {
        "colab": {
          "base_uri": "https://localhost:8080/"
        },
        "id": "jqTLAmD9mMiN",
        "outputId": "2320282b-64e3-41de-cb1c-30275137f756"
      },
      "source": [
        "# transformujeme celočíselné sekvencie do binárnej matice núl a jedničiek\n",
        "def vectorize(sequences, dimension=10000):\n",
        "  results = np.zeros((len(sequences), dimension))\n",
        "  for i, sequence in enumerate(sequences):\n",
        "    results[i, sequence] = 1.\n",
        "  return results\n",
        "\n",
        "final_data = vectorize(data)\n",
        "print(final_data[0])"
      ],
      "execution_count": null,
      "outputs": [
        {
          "output_type": "stream",
          "text": [
            "[0. 1. 1. ... 0. 0. 0.]\n"
          ],
          "name": "stdout"
        }
      ]
    },
    {
      "cell_type": "code",
      "metadata": {
        "colab": {
          "base_uri": "https://localhost:8080/"
        },
        "id": "eTN8RsNHmzxG",
        "outputId": "0b652742-e06a-4cca-dafc-9897af382a71"
      },
      "source": [
        "# transformácia labelov na typ float\n",
        "final_labels = np.array(labels).astype(\"float32\")\n",
        "print(final_labels[0])"
      ],
      "execution_count": null,
      "outputs": [
        {
          "output_type": "stream",
          "text": [
            "1.0\n"
          ],
          "name": "stdout"
        }
      ]
    },
    {
      "cell_type": "code",
      "metadata": {
        "colab": {
          "base_uri": "https://localhost:8080/"
        },
        "id": "JBNm0S0PmWou",
        "outputId": "8b4f434f-0d23-42cf-a46a-2323ffec5f1f"
      },
      "source": [
        "# vlastný train-test-validation split v % pomere 60:20:20\n",
        "test_x = final_data[:10000]\n",
        "test_y = final_labels[:10000]\n",
        "train_x = final_data[10000:40000]\n",
        "train_y = final_labels[10000:40000]\n",
        "val_x = final_data[40000:]\n",
        "val_y = final_labels[40000:]\n",
        "\n",
        "# kontrola rozdelenia\n",
        "print(len(test_x))\n",
        "print(len(test_y))\n",
        "print(len(train_x))\n",
        "print(len(train_y))\n",
        "print(len(val_x))\n",
        "print(len(val_y))"
      ],
      "execution_count": null,
      "outputs": [
        {
          "output_type": "stream",
          "text": [
            "10000\n",
            "10000\n",
            "30000\n",
            "30000\n",
            "10000\n",
            "10000\n"
          ],
          "name": "stdout"
        }
      ]
    },
    {
      "cell_type": "markdown",
      "metadata": {
        "id": "kRPLnsomYo6v"
      },
      "source": [
        "# Definícia neurónovej siete"
      ]
    },
    {
      "cell_type": "code",
      "metadata": {
        "colab": {
          "base_uri": "https://localhost:8080/"
        },
        "id": "lPeSawHdYs_f",
        "outputId": "3aa6a727-86a6-4527-c22c-9a4b9451f86a"
      },
      "source": [
        "# inicializujeme si model typu Sequential\n",
        "model = models.Sequential()\n",
        "# pridáme do modelu input layer potrebného tvaru\n",
        "model.add(layers.Dense(16, activation='relu', input_shape=(10000,)))\n",
        "# pridáme hidden layer\n",
        "model.add(layers.Dense(16, activation='relu'))\n",
        "# vytvoríme output layer\n",
        "model.add(layers.Dense(1, activation='sigmoid'))\n",
        "\n",
        "# zobrazíme si summary nášho modelu\n",
        "model.summary()"
      ],
      "execution_count": null,
      "outputs": [
        {
          "output_type": "stream",
          "text": [
            "Model: \"sequential\"\n",
            "_________________________________________________________________\n",
            "Layer (type)                 Output Shape              Param #   \n",
            "=================================================================\n",
            "dense (Dense)                (None, 16)                160016    \n",
            "_________________________________________________________________\n",
            "dense_1 (Dense)              (None, 16)                272       \n",
            "_________________________________________________________________\n",
            "dense_2 (Dense)              (None, 1)                 17        \n",
            "=================================================================\n",
            "Total params: 160,305\n",
            "Trainable params: 160,305\n",
            "Non-trainable params: 0\n",
            "_________________________________________________________________\n"
          ],
          "name": "stdout"
        }
      ]
    },
    {
      "cell_type": "markdown",
      "metadata": {
        "id": "NUw3uMKi2-Ek"
      },
      "source": [
        "# Trénovanie modelu"
      ]
    },
    {
      "cell_type": "code",
      "metadata": {
        "colab": {
          "base_uri": "https://localhost:8080/"
        },
        "id": "_nWCIT-P3D7T",
        "outputId": "16a54987-bfe4-43a4-8e44-89c2bc332a0f"
      },
      "source": [
        "# kompilácia modelu\n",
        "model.compile(\n",
        " optimizer = \"adam\",\n",
        " loss = \"binary_crossentropy\",\n",
        " metrics = [\"accuracy\"]\n",
        ")\n",
        "\n",
        "# trénovanie modelu\n",
        "results = model.fit(train_x,\n",
        "train_y,\n",
        "epochs=10,\n",
        "batch_size=32,\n",
        "validation_data=(val_x, val_y))"
      ],
      "execution_count": null,
      "outputs": [
        {
          "output_type": "stream",
          "text": [
            "Epoch 1/10\n",
            "938/938 [==============================] - 5s 5ms/step - loss: 0.3967 - accuracy: 0.8246 - val_loss: 0.2722 - val_accuracy: 0.8907\n",
            "Epoch 2/10\n",
            "938/938 [==============================] - 4s 4ms/step - loss: 0.1753 - accuracy: 0.9316 - val_loss: 0.2756 - val_accuracy: 0.8889\n",
            "Epoch 3/10\n",
            "938/938 [==============================] - 4s 4ms/step - loss: 0.1197 - accuracy: 0.9583 - val_loss: 0.3332 - val_accuracy: 0.8843\n",
            "Epoch 4/10\n",
            "938/938 [==============================] - 4s 4ms/step - loss: 0.0734 - accuracy: 0.9751 - val_loss: 0.3907 - val_accuracy: 0.8793\n",
            "Epoch 5/10\n",
            "938/938 [==============================] - 4s 4ms/step - loss: 0.0433 - accuracy: 0.9860 - val_loss: 0.5017 - val_accuracy: 0.8750\n",
            "Epoch 6/10\n",
            "938/938 [==============================] - 4s 4ms/step - loss: 0.0186 - accuracy: 0.9952 - val_loss: 0.6304 - val_accuracy: 0.8742\n",
            "Epoch 7/10\n",
            "938/938 [==============================] - 4s 4ms/step - loss: 0.0158 - accuracy: 0.9950 - val_loss: 0.7013 - val_accuracy: 0.8724\n",
            "Epoch 8/10\n",
            "938/938 [==============================] - 4s 5ms/step - loss: 0.0148 - accuracy: 0.9951 - val_loss: 0.7856 - val_accuracy: 0.8733\n",
            "Epoch 9/10\n",
            "938/938 [==============================] - 4s 4ms/step - loss: 0.0069 - accuracy: 0.9978 - val_loss: 0.8347 - val_accuracy: 0.8712\n",
            "Epoch 10/10\n",
            "938/938 [==============================] - 4s 5ms/step - loss: 0.0043 - accuracy: 0.9991 - val_loss: 1.0157 - val_accuracy: 0.8717\n"
          ],
          "name": "stdout"
        }
      ]
    },
    {
      "cell_type": "markdown",
      "metadata": {
        "id": "uYpYhPoE8jBS"
      },
      "source": [
        "# Validácia modelu"
      ]
    },
    {
      "cell_type": "code",
      "metadata": {
        "colab": {
          "base_uri": "https://localhost:8080/"
        },
        "id": "ECUrYTsW8iAa",
        "outputId": "bdc07037-4875-45ac-cc1a-8ad534b7945e"
      },
      "source": [
        "# vytiahneme si dáta o priebehu trénovania\n",
        "history_training = results.history\n",
        "loss_values = history_training['loss']\n",
        "val_loss_values = history_training['val_loss']\n",
        "\n",
        "# definícia rozmedzia počtu epoch pre zobrazenie na ose X\n",
        "epochs = range(1, len(history_training['loss']) + 1)\n",
        "\n",
        "# vizualizácia vývoja trénovacej a validačnej chyby\n",
        "plt.plot(epochs, loss_values, 'bo', label='Training loss')\n",
        "plt.plot(epochs, val_loss_values, 'r', label='Validation loss')\n",
        "plt.title('Training and validation loss')\n",
        "plt.xlabel('Epochs')\n",
        "plt.ylabel('Loss')\n",
        "plt.legend()\n",
        "plt.show()\n"
      ],
      "execution_count": null,
      "outputs": [
        {
          "output_type": "display_data",
          "data": {
            "image/png": "[encoded data removed]",
            "text/plain": [
              "<Figure size 432x288 with 1 Axes>"
            ]
          },
          "metadata": {
            "tags": [],
            "needs_background": "light"
          }
        }
      ]
    },
    {
      "cell_type": "code",
      "metadata": {
        "colab": {
          "base_uri": "https://localhost:8080/"
        },
        "id": "k5RYhMGu8xGD",
        "outputId": "e38f5115-e143-458a-83e8-46be6b200b2b"
      },
      "source": [
        "# vizualizácia vývoja trénovacej a validačnej accuracy\n",
        "acc_values = history_training['accuracy']\n",
        "val_acc_values = history_training['val_accuracy']\n",
        "plt.plot(epochs, acc_values, 'bo', label='Training acc')\n",
        "plt.plot(epochs, val_acc_values, 'r', label='Validation acc')\n",
        "plt.title('Training and validation accuracy')\n",
        "plt.xlabel('Epochs')\n",
        "plt.ylabel('Accuracy')\n",
        "plt.legend()\n",
        "plt.show()"
      ],
      "execution_count": null,
      "outputs": [
        {
          "output_type": "display_data",
          "data": {
            "image/png": "[encoded data removed]",
            "text/plain": [
              "<Figure size 432x288 with 1 Axes>"
            ]
          },
          "metadata": {
            "tags": [],
            "needs_background": "light"
          }
        }
      ]
    },
    {
      "cell_type": "code",
      "metadata": {
        "colab": {
          "base_uri": "https://localhost:8080/"
        },
        "id": "-1XANoz68_4Z",
        "outputId": "98f9bca5-8382-4d7e-cf1f-b72a8ee2ea31"
      },
      "source": [
        "# porovnanie priemernej accuracy trénovacieho a validačného setu\n",
        "accuracy_training = model.evaluate(train_x, train_y)\n",
        "accuracy_validation = model.evaluate(val_x, val_y)"
      ],
      "execution_count": null,
      "outputs": [
        {
          "output_type": "stream",
          "text": [
            "938/938 [==============================] - 2s 2ms/step - loss: 0.0056 - accuracy: 0.9982\n",
            "313/313 [==============================] - 1s 2ms/step - loss: 1.0157 - accuracy: 0.8717\n"
          ],
          "name": "stdout"
        }
      ]
    },
    {
      "cell_type": "markdown",
      "metadata": {
        "id": "Z9r3bQmUM6jR"
      },
      "source": [
        "# Bojujeme s overfittingom"
      ]
    },
    {
      "cell_type": "code",
      "metadata": {
        "id": "IdP4XCQjM98r",
        "colab": {
          "base_uri": "https://localhost:8080/",
          "height": 430
        },
        "outputId": "ebedd199-f5d2-4a68-cc60-b339e316f547"
      },
      "source": [
        "# upravíme našu sieť o dropout vrstvy s dropout rate 50%\n",
        "model2 = models.Sequential()\n",
        "model2.add(layers.Dense(16, activation='relu', input_shape=(10000,)))\n",
        "model2.add(layers.Dropout(0.5))\n",
        "model2.add(layers.Dense(16, activation='relu'))\n",
        "model2.add(layers.Dropout(0.5))\n",
        "model2.add(layers.Dense(1, activation='sigmoid'))\n",
        "\n",
        "# skompilujeme náš 2. model\n",
        "model2.compile(\n",
        " optimizer = \"adam\",\n",
        " loss = \"binary_crossentropy\",\n",
        " metrics = [\"accuracy\"]\n",
        ")\n",
        "\n",
        "# znížime počet epoch na 3 a zvalidujeme na testovacích dátach\n",
        "results2 = model2.fit(train_x,\n",
        "train_y,\n",
        "epochs=3,\n",
        "batch_size=32,\n",
        "validation_data=(test_x, test_y))\n",
        "\n",
        "history_training2 = results2.history\n",
        "loss_values2 = history_training2['loss']\n",
        "val_loss_values2 = history_training2['val_loss']\n",
        "\n",
        "# definícia rozmedzia počtu epoch pre zobrazenie na ose X\n",
        "epochs = range(1, len(history_training2['loss']) + 1)\n",
        "\n",
        "# vizualizácia vývoja trénovacej a testovacej chyby\n",
        "plt.plot(epochs, loss_values2, 'bo', label='Training loss')\n",
        "plt.plot(epochs, val_loss_values2, 'r', label='Test loss')\n",
        "plt.title('Training and test loss')\n",
        "plt.xlabel('Epochs')\n",
        "plt.ylabel('Loss')\n",
        "plt.legend()\n",
        "plt.show()\n",
        "\n",
        "# urobíme evaluáciu na testovacom datasete\n",
        "results2 = model2.evaluate(train_x, train_y)\n",
        "results2 = model2.evaluate(test_x, test_y)\n"
      ],
      "execution_count": null,
      "outputs": [
        {
          "output_type": "stream",
          "text": [
            "Epoch 1/3\n",
            "938/938 [==============================] - 5s 5ms/step - loss: 0.5622 - accuracy: 0.6945 - val_loss: 0.2793 - val_accuracy: 0.8869\n",
            "Epoch 2/3\n",
            "938/938 [==============================] - 4s 4ms/step - loss: 0.3287 - accuracy: 0.8633 - val_loss: 0.2766 - val_accuracy: 0.8872\n",
            "Epoch 3/3\n",
            "938/938 [==============================] - 4s 4ms/step - loss: 0.2865 - accuracy: 0.8866 - val_loss: 0.2753 - val_accuracy: 0.8901\n"
          ],
          "name": "stdout"
        },
        {
          "output_type": "display_data",
          "data": {
            "image/png": "[encoded data removed]",
            "text/plain": [
              "<Figure size 432x288 with 1 Axes>"
            ]
          },
          "metadata": {
            "tags": [],
            "needs_background": "light"
          }
        },
        {
          "output_type": "stream",
          "text": [
            "938/938 [==============================] - 2s 2ms/step - loss: 0.1517 - accuracy: 0.9469\n",
            "313/313 [==============================] - 1s 2ms/step - loss: 0.2753 - accuracy: 0.8901\n"
          ],
          "name": "stdout"
        }
      ]
    },
    {
      "cell_type": "markdown",
      "metadata": {
        "id": "dGq-VGHbSr7U"
      },
      "source": [
        "# Predikcia sentimentu pomocou modelu"
      ]
    },
    {
      "cell_type": "markdown",
      "metadata": {
        "id": "gmdCm_bt1YXV"
      },
      "source": [
        "# Nová sekcia"
      ]
    },
    {
      "cell_type": "code",
      "metadata": {
        "colab": {
          "base_uri": "https://localhost:8080/"
        },
        "id": "Ln9tnmOASxyH",
        "outputId": "dfb9a77e-447b-4873-9ebb-1cb7a141ae14"
      },
      "source": [
        "# vygenerujeme si pravdepodobnosť pozitívnej recenzie u recenzií v testovacom sete \n",
        "predictions = model2.predict(test_x)\n",
        "\n",
        "# zobrazíme si pravdepodobnosť pozitivity prvej recenzie\n",
        "print(predictions[0])"
      ],
      "execution_count": null,
      "outputs": [
        {
          "output_type": "stream",
          "text": [
            "[0.9919338]\n"
          ],
          "name": "stdout"
        }
      ]
    }
  ]
}