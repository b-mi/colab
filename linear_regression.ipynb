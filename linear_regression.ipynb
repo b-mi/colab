{
  "nbformat": 4,
  "nbformat_minor": 5,
  "metadata": {
    "kernelspec": {
      "display_name": "Python 3",
      "language": "python",
      "name": "python3"
    },
    "language_info": {
      "codemirror_mode": {
        "name": "ipython",
        "version": 3
      },
      "file_extension": ".py",
      "mimetype": "text/x-python",
      "name": "python",
      "nbconvert_exporter": "python",
      "pygments_lexer": "ipython3",
      "version": "3.8.8"
    },
    "colab": {
      "name": "linear_regression.ipynb",
      "provenance": [],
      "include_colab_link": true
    }
  },
  "cells": [
    {
      "cell_type": "markdown",
      "metadata": {
        "id": "view-in-github",
        "colab_type": "text"
      },
      "source": [
        "<a href=\"https://colab.research.google.com/github/b-mi/colab/blob/main/linear_regression.ipynb\" target=\"_parent\"><img src=\"https://colab.research.google.com/assets/colab-badge.svg\" alt=\"Open In Colab\"/></a>"
      ]
    },
    {
      "cell_type": "code",
      "metadata": {
        "id": "a932e436"
      },
      "source": [
        "%matplotlib inline\n",
        "%config IPCompleter.greedy=True\n",
        "import numpy as np\n",
        "import pandas as pd\n",
        "import torch \n",
        "import matplotlib.pyplot as plt"
      ],
      "id": "a932e436",
      "execution_count": null,
      "outputs": []
    },
    {
      "cell_type": "code",
      "metadata": {
        "id": "061dfa4b",
        "outputId": "d20bd265-3f8e-4320-f849-81cbe836aed0"
      },
      "source": [
        "np.linspace(1.0, 10.0, 40)"
      ],
      "id": "061dfa4b",
      "execution_count": null,
      "outputs": [
        {
          "output_type": "execute_result",
          "data": {
            "text/plain": [
              "array([ 1.        ,  1.23076923,  1.46153846,  1.69230769,  1.92307692,\n",
              "        2.15384615,  2.38461538,  2.61538462,  2.84615385,  3.07692308,\n",
              "        3.30769231,  3.53846154,  3.76923077,  4.        ,  4.23076923,\n",
              "        4.46153846,  4.69230769,  4.92307692,  5.15384615,  5.38461538,\n",
              "        5.61538462,  5.84615385,  6.07692308,  6.30769231,  6.53846154,\n",
              "        6.76923077,  7.        ,  7.23076923,  7.46153846,  7.69230769,\n",
              "        7.92307692,  8.15384615,  8.38461538,  8.61538462,  8.84615385,\n",
              "        9.07692308,  9.30769231,  9.53846154,  9.76923077, 10.        ])"
            ]
          },
          "metadata": {
            "tags": []
          },
          "execution_count": 2
        }
      ]
    },
    {
      "cell_type": "code",
      "metadata": {
        "id": "ba6e5989",
        "outputId": "ace948f5-39a2-4f85-c78e-27cae9dbd5a2"
      },
      "source": [
        "data = pd.read_csv('datasets/salary_dataset.csv')\n",
        "data"
      ],
      "id": "ba6e5989",
      "execution_count": null,
      "outputs": [
        {
          "output_type": "execute_result",
          "data": {
            "text/html": [
              "<div>\n",
              "<style scoped>\n",
              "    .dataframe tbody tr th:only-of-type {\n",
              "        vertical-align: middle;\n",
              "    }\n",
              "\n",
              "    .dataframe tbody tr th {\n",
              "        vertical-align: top;\n",
              "    }\n",
              "\n",
              "    .dataframe thead th {\n",
              "        text-align: right;\n",
              "    }\n",
              "</style>\n",
              "<table border=\"1\" class=\"dataframe\">\n",
              "  <thead>\n",
              "    <tr style=\"text-align: right;\">\n",
              "      <th></th>\n",
              "      <th>YearsExperience</th>\n",
              "      <th>Salary</th>\n",
              "    </tr>\n",
              "  </thead>\n",
              "  <tbody>\n",
              "    <tr>\n",
              "      <th>0</th>\n",
              "      <td>1.1</td>\n",
              "      <td>1979</td>\n",
              "    </tr>\n",
              "    <tr>\n",
              "      <th>1</th>\n",
              "      <td>1.3</td>\n",
              "      <td>2498</td>\n",
              "    </tr>\n",
              "    <tr>\n",
              "      <th>2</th>\n",
              "      <td>1.5</td>\n",
              "      <td>1857</td>\n",
              "    </tr>\n",
              "    <tr>\n",
              "      <th>3</th>\n",
              "      <td>2.0</td>\n",
              "      <td>2295</td>\n",
              "    </tr>\n",
              "    <tr>\n",
              "      <th>4</th>\n",
              "      <td>2.2</td>\n",
              "      <td>2020</td>\n",
              "    </tr>\n",
              "    <tr>\n",
              "      <th>5</th>\n",
              "      <td>2.9</td>\n",
              "      <td>3288</td>\n",
              "    </tr>\n",
              "    <tr>\n",
              "      <th>6</th>\n",
              "      <td>3.0</td>\n",
              "      <td>3554</td>\n",
              "    </tr>\n",
              "    <tr>\n",
              "      <th>7</th>\n",
              "      <td>3.2</td>\n",
              "      <td>3122</td>\n",
              "    </tr>\n",
              "    <tr>\n",
              "      <th>8</th>\n",
              "      <td>3.2</td>\n",
              "      <td>3879</td>\n",
              "    </tr>\n",
              "    <tr>\n",
              "      <th>9</th>\n",
              "      <td>3.7</td>\n",
              "      <td>3330</td>\n",
              "    </tr>\n",
              "    <tr>\n",
              "      <th>10</th>\n",
              "      <td>3.9</td>\n",
              "      <td>3786</td>\n",
              "    </tr>\n",
              "    <tr>\n",
              "      <th>11</th>\n",
              "      <td>4.0</td>\n",
              "      <td>3924</td>\n",
              "    </tr>\n",
              "    <tr>\n",
              "      <th>12</th>\n",
              "      <td>4.0</td>\n",
              "      <td>4812</td>\n",
              "    </tr>\n",
              "    <tr>\n",
              "      <th>13</th>\n",
              "      <td>4.1</td>\n",
              "      <td>3922</td>\n",
              "    </tr>\n",
              "    <tr>\n",
              "      <th>14</th>\n",
              "      <td>4.5</td>\n",
              "      <td>5627</td>\n",
              "    </tr>\n",
              "    <tr>\n",
              "      <th>15</th>\n",
              "      <td>4.9</td>\n",
              "      <td>4844</td>\n",
              "    </tr>\n",
              "    <tr>\n",
              "      <th>16</th>\n",
              "      <td>5.1</td>\n",
              "      <td>4699</td>\n",
              "    </tr>\n",
              "    <tr>\n",
              "      <th>17</th>\n",
              "      <td>5.3</td>\n",
              "      <td>5791</td>\n",
              "    </tr>\n",
              "    <tr>\n",
              "      <th>18</th>\n",
              "      <td>5.9</td>\n",
              "      <td>5960</td>\n",
              "    </tr>\n",
              "    <tr>\n",
              "      <th>19</th>\n",
              "      <td>6.0</td>\n",
              "      <td>6912</td>\n",
              "    </tr>\n",
              "    <tr>\n",
              "      <th>20</th>\n",
              "      <td>6.8</td>\n",
              "      <td>6646</td>\n",
              "    </tr>\n",
              "    <tr>\n",
              "      <th>21</th>\n",
              "      <td>7.1</td>\n",
              "      <td>6940</td>\n",
              "    </tr>\n",
              "    <tr>\n",
              "      <th>22</th>\n",
              "      <td>7.9</td>\n",
              "      <td>6670</td>\n",
              "    </tr>\n",
              "    <tr>\n",
              "      <th>23</th>\n",
              "      <td>8.2</td>\n",
              "      <td>7617</td>\n",
              "    </tr>\n",
              "    <tr>\n",
              "      <th>24</th>\n",
              "      <td>8.7</td>\n",
              "      <td>7285</td>\n",
              "    </tr>\n",
              "    <tr>\n",
              "      <th>25</th>\n",
              "      <td>9.0</td>\n",
              "      <td>6994</td>\n",
              "    </tr>\n",
              "    <tr>\n",
              "      <th>26</th>\n",
              "      <td>9.5</td>\n",
              "      <td>7856</td>\n",
              "    </tr>\n",
              "    <tr>\n",
              "      <th>27</th>\n",
              "      <td>9.6</td>\n",
              "      <td>7528</td>\n",
              "    </tr>\n",
              "    <tr>\n",
              "      <th>28</th>\n",
              "      <td>10.3</td>\n",
              "      <td>8266</td>\n",
              "    </tr>\n",
              "    <tr>\n",
              "      <th>29</th>\n",
              "      <td>10.5</td>\n",
              "      <td>8227</td>\n",
              "    </tr>\n",
              "  </tbody>\n",
              "</table>\n",
              "</div>"
            ],
            "text/plain": [
              "    YearsExperience  Salary\n",
              "0               1.1    1979\n",
              "1               1.3    2498\n",
              "2               1.5    1857\n",
              "3               2.0    2295\n",
              "4               2.2    2020\n",
              "5               2.9    3288\n",
              "6               3.0    3554\n",
              "7               3.2    3122\n",
              "8               3.2    3879\n",
              "9               3.7    3330\n",
              "10              3.9    3786\n",
              "11              4.0    3924\n",
              "12              4.0    4812\n",
              "13              4.1    3922\n",
              "14              4.5    5627\n",
              "15              4.9    4844\n",
              "16              5.1    4699\n",
              "17              5.3    5791\n",
              "18              5.9    5960\n",
              "19              6.0    6912\n",
              "20              6.8    6646\n",
              "21              7.1    6940\n",
              "22              7.9    6670\n",
              "23              8.2    7617\n",
              "24              8.7    7285\n",
              "25              9.0    6994\n",
              "26              9.5    7856\n",
              "27              9.6    7528\n",
              "28             10.3    8266\n",
              "29             10.5    8227"
            ]
          },
          "metadata": {
            "tags": []
          },
          "execution_count": 3
        }
      ]
    },
    {
      "cell_type": "code",
      "metadata": {
        "id": "ec56eaa0",
        "outputId": "93d058ae-dc2b-413f-dbe7-71f6e9324352"
      },
      "source": [
        "data.hist()"
      ],
      "id": "ec56eaa0",
      "execution_count": null,
      "outputs": [
        {
          "output_type": "execute_result",
          "data": {
            "text/plain": [
              "array([[<AxesSubplot:title={'center':'YearsExperience'}>,\n",
              "        <AxesSubplot:title={'center':'Salary'}>]], dtype=object)"
            ]
          },
          "metadata": {
            "tags": []
          },
          "execution_count": 4
        },
        {
          "output_type": "display_data",
          "data": {
            "image/png": "[encoded data removed]",
            "text/plain": [
              "<Figure size 432x288 with 2 Axes>"
            ]
          },
          "metadata": {
            "tags": [],
            "needs_background": "light"
          }
        }
      ]
    },
    {
      "cell_type": "code",
      "metadata": {
        "id": "7b097174",
        "outputId": "ecbd222a-c523-4a2b-9d64-ec0b0da26ddd"
      },
      "source": [
        "inputs, targets = np.split(data, [1], axis=1)\n",
        "inputs.head()"
      ],
      "id": "7b097174",
      "execution_count": null,
      "outputs": [
        {
          "output_type": "execute_result",
          "data": {
            "text/html": [
              "<div>\n",
              "<style scoped>\n",
              "    .dataframe tbody tr th:only-of-type {\n",
              "        vertical-align: middle;\n",
              "    }\n",
              "\n",
              "    .dataframe tbody tr th {\n",
              "        vertical-align: top;\n",
              "    }\n",
              "\n",
              "    .dataframe thead th {\n",
              "        text-align: right;\n",
              "    }\n",
              "</style>\n",
              "<table border=\"1\" class=\"dataframe\">\n",
              "  <thead>\n",
              "    <tr style=\"text-align: right;\">\n",
              "      <th></th>\n",
              "      <th>YearsExperience</th>\n",
              "    </tr>\n",
              "  </thead>\n",
              "  <tbody>\n",
              "    <tr>\n",
              "      <th>0</th>\n",
              "      <td>1.1</td>\n",
              "    </tr>\n",
              "    <tr>\n",
              "      <th>1</th>\n",
              "      <td>1.3</td>\n",
              "    </tr>\n",
              "    <tr>\n",
              "      <th>2</th>\n",
              "      <td>1.5</td>\n",
              "    </tr>\n",
              "    <tr>\n",
              "      <th>3</th>\n",
              "      <td>2.0</td>\n",
              "    </tr>\n",
              "    <tr>\n",
              "      <th>4</th>\n",
              "      <td>2.2</td>\n",
              "    </tr>\n",
              "  </tbody>\n",
              "</table>\n",
              "</div>"
            ],
            "text/plain": [
              "   YearsExperience\n",
              "0              1.1\n",
              "1              1.3\n",
              "2              1.5\n",
              "3              2.0\n",
              "4              2.2"
            ]
          },
          "metadata": {
            "tags": []
          },
          "execution_count": 5
        }
      ]
    },
    {
      "cell_type": "code",
      "metadata": {
        "id": "9780edf3",
        "outputId": "4681ea0c-a4b7-4f65-b8b3-d8f4e93e99e7"
      },
      "source": [
        "targets.head()"
      ],
      "id": "9780edf3",
      "execution_count": null,
      "outputs": [
        {
          "output_type": "execute_result",
          "data": {
            "text/html": [
              "<div>\n",
              "<style scoped>\n",
              "    .dataframe tbody tr th:only-of-type {\n",
              "        vertical-align: middle;\n",
              "    }\n",
              "\n",
              "    .dataframe tbody tr th {\n",
              "        vertical-align: top;\n",
              "    }\n",
              "\n",
              "    .dataframe thead th {\n",
              "        text-align: right;\n",
              "    }\n",
              "</style>\n",
              "<table border=\"1\" class=\"dataframe\">\n",
              "  <thead>\n",
              "    <tr style=\"text-align: right;\">\n",
              "      <th></th>\n",
              "      <th>Salary</th>\n",
              "    </tr>\n",
              "  </thead>\n",
              "  <tbody>\n",
              "    <tr>\n",
              "      <th>0</th>\n",
              "      <td>1979.0</td>\n",
              "    </tr>\n",
              "    <tr>\n",
              "      <th>1</th>\n",
              "      <td>2498.0</td>\n",
              "    </tr>\n",
              "    <tr>\n",
              "      <th>2</th>\n",
              "      <td>1857.0</td>\n",
              "    </tr>\n",
              "    <tr>\n",
              "      <th>3</th>\n",
              "      <td>2295.0</td>\n",
              "    </tr>\n",
              "    <tr>\n",
              "      <th>4</th>\n",
              "      <td>2020.0</td>\n",
              "    </tr>\n",
              "  </tbody>\n",
              "</table>\n",
              "</div>"
            ],
            "text/plain": [
              "   Salary\n",
              "0  1979.0\n",
              "1  2498.0\n",
              "2  1857.0\n",
              "3  2295.0\n",
              "4  2020.0"
            ]
          },
          "metadata": {
            "tags": []
          },
          "execution_count": 6
        }
      ]
    },
    {
      "cell_type": "code",
      "metadata": {
        "id": "4aa788c4",
        "outputId": "e24994ee-47a2-4a7e-eaec-c261f92e4efa"
      },
      "source": [
        "fig1 = plt.figure()\n",
        "plt.scatter(inputs, targets)\n",
        "plt.xlabel('roky')\n",
        "plt.ylabel('plat')"
      ],
      "id": "4aa788c4",
      "execution_count": null,
      "outputs": [
        {
          "output_type": "execute_result",
          "data": {
            "text/plain": [
              "Text(0, 0.5, 'plat')"
            ]
          },
          "metadata": {
            "tags": []
          },
          "execution_count": 18
        },
        {
          "output_type": "display_data",
          "data": {
            "image/png": "[encoded data removed]",
            "text/plain": [
              "<Figure size 432x288 with 1 Axes>"
            ]
          },
          "metadata": {
            "tags": [],
            "needs_background": "light"
          }
        }
      ]
    },
    {
      "cell_type": "code",
      "metadata": {
        "id": "cba4039f",
        "outputId": "ba51aa0b-c530-4abc-98c3-7e0991d282eb"
      },
      "source": [
        "a = 1\n",
        "c = 1\n",
        "def F(x):\n",
        "    return a*x+c\n",
        "\n",
        "F(3)"
      ],
      "id": "cba4039f",
      "execution_count": null,
      "outputs": [
        {
          "output_type": "execute_result",
          "data": {
            "text/plain": [
              "4"
            ]
          },
          "metadata": {
            "tags": []
          },
          "execution_count": 8
        }
      ]
    },
    {
      "cell_type": "code",
      "metadata": {
        "id": "6acff68c",
        "outputId": "e93ca085-070c-4e15-83af-442abb6eee52"
      },
      "source": [
        "foo = torch.Tensor(np.array([1, 2, 3]))\n",
        "foo"
      ],
      "id": "6acff68c",
      "execution_count": null,
      "outputs": [
        {
          "output_type": "execute_result",
          "data": {
            "text/plain": [
              "tensor([1., 2., 3.])"
            ]
          },
          "metadata": {
            "tags": []
          },
          "execution_count": 9
        }
      ]
    },
    {
      "cell_type": "code",
      "metadata": {
        "id": "ad63f505",
        "outputId": "79e4b46e-a93b-4cbe-bf44-6822dffc1841"
      },
      "source": [
        "inputs = torch.Tensor(inputs.to_numpy())\n",
        "targets = torch.Tensor(targets.to_numpy())\n"
      ],
      "id": "ad63f505",
      "execution_count": null,
      "outputs": [
        {
          "output_type": "error",
          "ename": "AttributeError",
          "evalue": "'Tensor' object has no attribute 'to_numpy'",
          "traceback": [
            "\u001b[1;31m---------------------------------------------------------------------------\u001b[0m",
            "\u001b[1;31mAttributeError\u001b[0m                            Traceback (most recent call last)",
            "\u001b[1;32m<ipython-input-11-dcf155f1e12a>\u001b[0m in \u001b[0;36m<module>\u001b[1;34m\u001b[0m\n\u001b[1;32m----> 1\u001b[1;33m \u001b[0minputs\u001b[0m \u001b[1;33m=\u001b[0m \u001b[0mtorch\u001b[0m\u001b[1;33m.\u001b[0m\u001b[0mTensor\u001b[0m\u001b[1;33m(\u001b[0m\u001b[0minputs\u001b[0m\u001b[1;33m.\u001b[0m\u001b[0mto_numpy\u001b[0m\u001b[1;33m(\u001b[0m\u001b[1;33m)\u001b[0m\u001b[1;33m)\u001b[0m\u001b[1;33m\u001b[0m\u001b[1;33m\u001b[0m\u001b[0m\n\u001b[0m\u001b[0;32m      2\u001b[0m \u001b[0mtargets\u001b[0m \u001b[1;33m=\u001b[0m \u001b[0mtorch\u001b[0m\u001b[1;33m.\u001b[0m\u001b[0mTensor\u001b[0m\u001b[1;33m(\u001b[0m\u001b[0mtargets\u001b[0m\u001b[1;33m.\u001b[0m\u001b[0mto_numpy\u001b[0m\u001b[1;33m(\u001b[0m\u001b[1;33m)\u001b[0m\u001b[1;33m)\u001b[0m\u001b[1;33m\u001b[0m\u001b[1;33m\u001b[0m\u001b[0m\n\u001b[0;32m      3\u001b[0m \u001b[0minputs\u001b[0m\u001b[1;33m\u001b[0m\u001b[1;33m\u001b[0m\u001b[0m\n",
            "\u001b[1;31mAttributeError\u001b[0m: 'Tensor' object has no attribute 'to_numpy'"
          ]
        }
      ]
    },
    {
      "cell_type": "code",
      "metadata": {
        "id": "eba954fc",
        "outputId": "b7aff5b2-5c91-48fb-a2dc-623157ac9e23"
      },
      "source": [
        "inputs"
      ],
      "id": "eba954fc",
      "execution_count": null,
      "outputs": [
        {
          "output_type": "execute_result",
          "data": {
            "text/plain": [
              "tensor([[ 1.1000],\n",
              "        [ 1.3000],\n",
              "        [ 1.5000],\n",
              "        [ 2.0000],\n",
              "        [ 2.2000],\n",
              "        [ 2.9000],\n",
              "        [ 3.0000],\n",
              "        [ 3.2000],\n",
              "        [ 3.2000],\n",
              "        [ 3.7000],\n",
              "        [ 3.9000],\n",
              "        [ 4.0000],\n",
              "        [ 4.0000],\n",
              "        [ 4.1000],\n",
              "        [ 4.5000],\n",
              "        [ 4.9000],\n",
              "        [ 5.1000],\n",
              "        [ 5.3000],\n",
              "        [ 5.9000],\n",
              "        [ 6.0000],\n",
              "        [ 6.8000],\n",
              "        [ 7.1000],\n",
              "        [ 7.9000],\n",
              "        [ 8.2000],\n",
              "        [ 8.7000],\n",
              "        [ 9.0000],\n",
              "        [ 9.5000],\n",
              "        [ 9.6000],\n",
              "        [10.3000],\n",
              "        [10.5000]])"
            ]
          },
          "metadata": {
            "tags": []
          },
          "execution_count": 12
        }
      ]
    },
    {
      "cell_type": "code",
      "metadata": {
        "id": "5302e0c9",
        "outputId": "c18281e4-5a90-480a-8950-f78e14531c9d"
      },
      "source": [
        "w = torch.rand(1, requires_grad=True)\n",
        "b = torch.rand(1, requires_grad=True)\n",
        "print(w, b)"
      ],
      "id": "5302e0c9",
      "execution_count": null,
      "outputs": [
        {
          "output_type": "stream",
          "text": [
            "tensor([0.8931], requires_grad=True) tensor([0.0497], requires_grad=True)\n"
          ],
          "name": "stdout"
        }
      ]
    },
    {
      "cell_type": "code",
      "metadata": {
        "id": "938dc60f"
      },
      "source": [
        "model1 = (w, b)"
      ],
      "id": "938dc60f",
      "execution_count": null,
      "outputs": []
    },
    {
      "cell_type": "code",
      "metadata": {
        "id": "d0e8f19f"
      },
      "source": [
        "def use_model(x, model):\n",
        "    w, b = model\n",
        "    return x * w + b"
      ],
      "id": "d0e8f19f",
      "execution_count": null,
      "outputs": []
    },
    {
      "cell_type": "code",
      "metadata": {
        "id": "f1cae267",
        "outputId": "44ff3729-e4e5-4a54-b869-c01e7e1b6125"
      },
      "source": [
        "preds = use_model(inputs, model1)\n",
        "preds"
      ],
      "id": "f1cae267",
      "execution_count": null,
      "outputs": [
        {
          "output_type": "execute_result",
          "data": {
            "text/plain": [
              "tensor([[1.0322],\n",
              "        [1.2108],\n",
              "        [1.3895],\n",
              "        [1.8360],\n",
              "        [2.0147],\n",
              "        [2.6399],\n",
              "        [2.7292],\n",
              "        [2.9078],\n",
              "        [2.9078],\n",
              "        [3.3544],\n",
              "        [3.5330],\n",
              "        [3.6223],\n",
              "        [3.6223],\n",
              "        [3.7117],\n",
              "        [4.0689],\n",
              "        [4.4262],\n",
              "        [4.6048],\n",
              "        [4.7834],\n",
              "        [5.3193],\n",
              "        [5.4086],\n",
              "        [6.1232],\n",
              "        [6.3911],\n",
              "        [7.1056],\n",
              "        [7.3736],\n",
              "        [7.8201],\n",
              "        [8.0881],\n",
              "        [8.5347],\n",
              "        [8.6240],\n",
              "        [9.2492],\n",
              "        [9.4278]], grad_fn=<AddBackward0>)"
            ]
          },
          "metadata": {
            "tags": []
          },
          "execution_count": 16
        }
      ]
    },
    {
      "cell_type": "code",
      "metadata": {
        "id": "3983158b"
      },
      "source": [
        ""
      ],
      "id": "3983158b",
      "execution_count": null,
      "outputs": []
    }
  ]
}